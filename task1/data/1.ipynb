{
 "cells": [
  {
   "cell_type": "code",
   "execution_count": 1,
   "metadata": {
    "collapsed": false
   },
   "outputs": [],
   "source": [
    "import pandas as pd\n",
    "import numpy as np\n",
    "\n",
    "from sklearn.metrics import accuracy_score\n",
    "from sklearn.model_selection import cross_val_predict\n",
    "from sklearn import metrics\n",
    "import seaborn as sns\n",
    "%matplotlib inline\n"
   ]
  },
  {
   "cell_type": "code",
   "execution_count": 2,
   "metadata": {
    "collapsed": false
   },
   "outputs": [],
   "source": [
    "def proccess_dataset(name):\n",
    "    dataset = pd.read_csv(name, header=None, skipinitialspace=True)\n",
    "    dataset.columns = ['age', 'workclass', 'fnlwgt', 'education', 'education-num',\n",
    "                      'marital-status', 'occupation', 'relationship', 'race',\n",
    "                      'sex', 'capital-gain', 'capital-loss', 'hours-per-week', 'native-country', 'income']\n",
    "#     for c in ['fnlwgt','hours-per-week']: \n",
    "#         dataset = dataset.drop(c, 1)\n",
    "\n",
    "    dataset['income'] = dataset['income'].str.strip()\n",
    "    dataset['income'] = dataset['income'].str.strip('.')\n",
    "    dataset['income'] = dataset['income'].map(lambda x: 0 if x == '<=50K' else 1)\n",
    "\n",
    "    return dataset"
   ]
  },
  {
   "cell_type": "code",
   "execution_count": 3,
   "metadata": {
    "collapsed": true
   },
   "outputs": [],
   "source": [
    "def proccess_train_test(train, test):\n",
    "    train_y = train[['income']]\n",
    "    test_y = test[['income']]\n",
    "    train_test_x = pd.concat([train.ix[:,:'native-country'], test.ix[:,:'native-country']])\n",
    "    train_test_x = pd.get_dummies(train_test_x)\n",
    "#     for x in train_test_x.columns:\n",
    "#         print(x)\n",
    "    return train_test_x.head(len(train)), train_y, train_test_x.tail(len(test)), test_y"
   ]
  },
  {
   "cell_type": "code",
   "execution_count": 4,
   "metadata": {
    "collapsed": false
   },
   "outputs": [],
   "source": [
    "train = proccess_dataset('adult.data.txt')\n",
    "test = proccess_dataset('adult.test.txt')\n",
    "train_X, train_y, test_X, test_y = proccess_train_test(train, test)"
   ]
  },
  {
   "cell_type": "code",
   "execution_count": 5,
   "metadata": {
    "collapsed": false
   },
   "outputs": [
    {
     "name": "stdout",
     "output_type": "stream",
     "text": [
      "32561 32561 16281 16281\n"
     ]
    }
   ],
   "source": [
    "print(len(train_X), len(train_y), len(test_X), len(test_y))"
   ]
  },
  {
   "cell_type": "code",
   "execution_count": 12,
   "metadata": {
    "collapsed": false
   },
   "outputs": [
    {
     "name": "stdout",
     "output_type": "stream",
     "text": [
      "AdaBoostClassifier(algorithm='SAMME.R', base_estimator=None,\n",
      "          learning_rate=1.0, n_estimators=900, random_state=None)\n"
     ]
    },
    {
     "name": "stderr",
     "output_type": "stream",
     "text": [
      "/usr/local/lib/python3.4/dist-packages/sklearn/utils/validation.py:526: DataConversionWarning: A column-vector y was passed when a 1d array was expected. Please change the shape of y to (n_samples, ), for example using ravel().\n",
      "  y = column_or_1d(y, warn=True)\n"
     ]
    },
    {
     "name": "stdout",
     "output_type": "stream",
     "text": [
      "0.871322400344\n"
     ]
    }
   ],
   "source": [
    "from sklearn import tree\n",
    "from sklearn import linear_model\n",
    "from sklearn.ensemble import RandomForestClassifier\n",
    "from sklearn.ensemble import AdaBoostClassifier\n",
    "from sklearn.ensemble import GradientBoostingClassifier\n",
    "from sklearn.ensemble import AdaBoostClassifier\n",
    "from sklearn.neural_network import MLPClassifier\n",
    "from sklearn.naive_bayes import MultinomialNB\n",
    "\n",
    "# model = tree.DecisionTreeClassifier()\n",
    "\n",
    "# model = GradientBoostingClassifier(\n",
    "#     n_estimators=100, learning_rate=1, random_state=0)\n",
    "\n",
    "model = AdaBoostClassifier(n_estimators=900)\n",
    "print(model)\n",
    "\n",
    "model.fit(train_X, train_y)\n",
    "pred = model.predict(test_X)\n",
    "print(accuracy_score(pred, test_y))"
   ]
  },
  {
   "cell_type": "code",
   "execution_count": 7,
   "metadata": {
    "collapsed": false
   },
   "outputs": [
    {
     "data": {
      "text/plain": [
       "array([0, 0, 0, ..., 1, 0, 1])"
      ]
     },
     "execution_count": 7,
     "metadata": {},
     "output_type": "execute_result"
    }
   ],
   "source": [
    "# model = AdaBoostClassifier(n_estimators=500)\n",
    "\n",
    "# predicted = cross_val_predict(model, train_X, train_y['income'], cv=10)\n",
    "# metrics.accuracy_score(train_y['income'], predicted) \n",
    "pred"
   ]
  },
  {
   "cell_type": "code",
   "execution_count": 8,
   "metadata": {
    "collapsed": false
   },
   "outputs": [
    {
     "name": "stderr",
     "output_type": "stream",
     "text": [
      "/usr/local/lib/python3.4/dist-packages/sklearn/cross_validation.py:44: DeprecationWarning: This module was deprecated in version 0.18 in favor of the model_selection module into which all the refactored classes and functions are moved. Also note that the interface of the new CV iterators are different from that of this module. This module will be removed in 0.20.\n",
      "  \"This module will be removed in 0.20.\", DeprecationWarning)\n"
     ]
    },
    {
     "name": "stdout",
     "output_type": "stream",
     "text": [
      "# Num of Features:  108\n",
      "0.878078742092\n"
     ]
    }
   ],
   "source": [
    "import xgboost as xgb\n",
    "\n",
    "dtrain = xgb.DMatrix(train_X, train_y)\n",
    "dvalid = xgb.DMatrix(test_X, test_y)\n",
    "\n",
    "print(\"# Num of Features: \", train_X.shape[1])\n",
    "\n",
    "params = {\n",
    "    \"objective\": \"binary:logistic\",\n",
    "    \"booster\": \"gbtree\",\n",
    "    \"eta\": 0.25,\n",
    "}\n",
    "\n",
    "gbm = xgb.train(params, dtrain, 40)\n",
    "\n",
    "ypred_bst = np.array(gbm.predict(xgb.DMatrix(test_X)))\n",
    "ypred_bst = ypred_bst > 0.5\n",
    "ypred_bst = ypred_bst.astype(int)\n",
    "print(accuracy_score(ypred_bst, test_y))"
   ]
  },
  {
   "cell_type": "code",
   "execution_count": 9,
   "metadata": {
    "collapsed": false
   },
   "outputs": [
    {
     "data": {
      "text/plain": [
       "<matplotlib.axes._subplots.AxesSubplot at 0x7f01f97e1c18>"
      ]
     },
     "execution_count": 9,
     "metadata": {},
     "output_type": "execute_result"
    },
    {
     "data": {
      "image/png": "[encoded data removed]",
      "text/plain": [
       "<matplotlib.figure.Figure at 0x7f01f97e14a8>"
      ]
     },
     "metadata": {},
     "output_type": "display_data"
    }
   ],
   "source": [
    "from sklearn.metrics import confusion_matrix\n",
    "\n",
    "# Compute confusion matrix\n",
    "cnf_matrix = confusion_matrix(test_y['income'], ypred_bst)\n",
    "np.set_printoptions(precision=2)\n",
    "\n",
    "df_cm = pd.DataFrame(cnf_matrix, index = [str(x) for x in range(1, 3)],\n",
    "                  columns = [str(x) for x in range(1, 3)])\n",
    "sns.heatmap(df_cm, annot=True)"
   ]
  },
  {
   "cell_type": "code",
   "execution_count": 10,
   "metadata": {
    "collapsed": false
   },
   "outputs": [],
   "source": [
    "# from keras.models import Sequential\n",
    "# from keras.layers import Dense, Dropout, Activation\n",
    "# from keras.wrappers.scikit_learn import KerasClassifier\n",
    "# from keras.utils import np_utils\n",
    "# from keras.optimizers import SGD\n",
    "# from keras.layers.advanced_activations import PReLU\n",
    "\n",
    "# def baseline_model():\n",
    "#     # create model\n",
    "#     model = Sequential()\n",
    "#     model.add(Dense(150, input_dim=train_X.shape[1], init='normal', activation='relu'))\n",
    "#     model.add(PReLU())\n",
    "#     model.add(Dropout(0.5))\n",
    "#     model.add(Dense(300, input_dim=train_X.shape[1], init='normal', activation='relu'))\n",
    "#     model.add(PReLU())\n",
    "#     model.add(Dropout(0.5))\n",
    "#     model.add(Dense(50, input_dim=train_X.shape[1], init='normal', activation='relu'))\n",
    "#     model.add(PReLU())\n",
    "#     model.add(Dropout(0.5))\n",
    "#     model.add(Dense(1, activation='sigmoid'))\n",
    "#     # Compile model\n",
    "#     model.compile(loss='binary_crossentropy', optimizer='rmsprop', metrics=['accuracy'])  #logloss\n",
    "#     return model\n",
    "\n",
    "# model = baseline_model()\n",
    "# model.fit(train_X.as_matrix(), train_y.as_matrix(), nb_epoch=15, batch_size=2000)"
   ]
  },
  {
   "cell_type": "code",
   "execution_count": 11,
   "metadata": {
    "collapsed": false
   },
   "outputs": [
    {
     "ename": "AttributeError",
     "evalue": "'AdaBoostClassifier' object has no attribute 'evaluate'",
     "output_type": "error",
     "traceback": [
      "\u001b[0;31m---------------------------------------------------------------------------\u001b[0m",
      "\u001b[0;31mAttributeError\u001b[0m                            Traceback (most recent call last)",
      "\u001b[0;32m<ipython-input-11-dfd867fc9796>\u001b[0m in \u001b[0;36m<module>\u001b[0;34m()\u001b[0m\n\u001b[0;32m----> 1\u001b[0;31m \u001b[0msc\u001b[0m \u001b[0;34m=\u001b[0m \u001b[0mmodel\u001b[0m\u001b[0;34m.\u001b[0m\u001b[0mevaluate\u001b[0m\u001b[0;34m(\u001b[0m\u001b[0mtest_X\u001b[0m\u001b[0;34m.\u001b[0m\u001b[0mas_matrix\u001b[0m\u001b[0;34m(\u001b[0m\u001b[0;34m)\u001b[0m\u001b[0;34m,\u001b[0m \u001b[0mtest_y\u001b[0m\u001b[0;34m.\u001b[0m\u001b[0mas_matrix\u001b[0m\u001b[0;34m(\u001b[0m\u001b[0;34m)\u001b[0m\u001b[0;34m,\u001b[0m \u001b[0mbatch_size\u001b[0m\u001b[0;34m=\u001b[0m\u001b[0;36m2000\u001b[0m\u001b[0;34m)\u001b[0m\u001b[0;34m\u001b[0m\u001b[0m\n\u001b[0m\u001b[1;32m      2\u001b[0m \u001b[0;31m# model.predict_on_batch(test_X.as_matrix())\u001b[0m\u001b[0;34m\u001b[0m\u001b[0;34m\u001b[0m\u001b[0m\n\u001b[1;32m      3\u001b[0m \u001b[0msc\u001b[0m\u001b[0;34m\u001b[0m\u001b[0m\n",
      "\u001b[0;31mAttributeError\u001b[0m: 'AdaBoostClassifier' object has no attribute 'evaluate'"
     ]
    }
   ],
   "source": [
    "sc = model.evaluate(test_X.as_matrix(), test_y.as_matrix(), batch_size=2000)\n",
    "# model.predict_on_batch(test_X.as_matrix())\n",
    "sc"
   ]
  }
 ],
 "metadata": {
  "kernelspec": {
   "display_name": "Python 3",
   "language": "python",
   "name": "python3"
  },
  "language_info": {
   "codemirror_mode": {
    "name": "ipython",
    "version": 3
   },
   "file_extension": ".py",
   "mimetype": "text/x-python",
   "name": "python",
   "nbconvert_exporter": "python",
   "pygments_lexer": "ipython3",
   "version": "3.4.3"
  }
 },
 "nbformat": 4,
 "nbformat_minor": 1
}
