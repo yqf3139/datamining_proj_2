{
 "cells": [
  {
   "cell_type": "markdown",
   "metadata": {},
   "source": [
    "# 导入数据处理和算法库包\n",
    "使用pandas进行数据预处理和分析\n",
    "使用sklearn中的分类器和评估框架\n",
    "使用seaborn进行可视化"
   ]
  },
  {
   "cell_type": "code",
   "execution_count": 1,
   "metadata": {
    "collapsed": false
   },
   "outputs": [],
   "source": [
    "import pandas as pd\n",
    "import numpy as np\n",
    "from sklearn.metrics import *\n",
    "from sklearn.model_selection import cross_val_predict\n",
    "from sklearn import metrics\n",
    "import seaborn as sns\n",
    "%matplotlib inline"
   ]
  },
  {
   "cell_type": "markdown",
   "metadata": {},
   "source": [
    "# 导入自实现的基本分类器\n",
    "yqflearn.NativeBayes() 和 yqflearn.KNN()"
   ]
  },
  {
   "cell_type": "code",
   "execution_count": 2,
   "metadata": {
    "collapsed": true
   },
   "outputs": [],
   "source": [
    "import yqflearn"
   ]
  },
  {
   "cell_type": "markdown",
   "metadata": {},
   "source": [
    "# 数据预处理和特征工程"
   ]
  },
  {
   "cell_type": "code",
   "execution_count": 3,
   "metadata": {
    "collapsed": false
   },
   "outputs": [],
   "source": [
    "def proccess_dataset(name):\n",
    "    dataset = pd.read_csv(name, header=None, skipinitialspace=True)\n",
    "    dataset.columns = ['age', 'workclass', 'fnlwgt', 'education', 'education-num',\n",
    "                      'marital-status', 'occupation', 'relationship', 'race',\n",
    "                      'sex', 'capital-gain', 'capital-loss', 'hours-per-week', 'native-country', 'income']\n",
    "#     for c in ['fnlwgt','hours-per-week']: \n",
    "#         dataset = dataset.drop(c, 1)\n",
    "    dataset['income'] = dataset['income'].str.strip()\n",
    "    dataset['income'] = dataset['income'].str.strip('.')\n",
    "    dataset['income'] = dataset['income'].map(lambda x: 0 if x == '<=50K' else 1)\n",
    "\n",
    "    return dataset"
   ]
  },
  {
   "cell_type": "code",
   "execution_count": 4,
   "metadata": {
    "collapsed": true
   },
   "outputs": [],
   "source": [
    "def proccess_train_test(train, test):\n",
    "    train_y = train[['income']]\n",
    "    test_y = test[['income']]\n",
    "    train_test_x = pd.concat([train.ix[:,:'native-country'], test.ix[:,:'native-country']])\n",
    "    train_test_x = pd.get_dummies(train_test_x)\n",
    "#     for x in train_test_x.columns:\n",
    "#         print(x)\n",
    "    return train_test_x.head(len(train)), train_y, train_test_x.tail(len(test)), test_y"
   ]
  },
  {
   "cell_type": "code",
   "execution_count": 5,
   "metadata": {
    "collapsed": false
   },
   "outputs": [],
   "source": [
    "train = proccess_dataset('adult.data.txt')\n",
    "test = proccess_dataset('adult.test.txt')\n",
    "train_X, train_y, test_X, test_y = proccess_train_test(train, test)"
   ]
  },
  {
   "cell_type": "code",
   "execution_count": 6,
   "metadata": {
    "collapsed": false
   },
   "outputs": [
    {
     "data": {
      "text/html": [
       "<div>\n",
       "<table border=\"1\" class=\"dataframe\">\n",
       "  <thead>\n",
       "    <tr style=\"text-align: right;\">\n",
       "      <th></th>\n",
       "      <th>age</th>\n",
       "      <th>fnlwgt</th>\n",
       "      <th>education-num</th>\n",
       "      <th>capital-gain</th>\n",
       "      <th>capital-loss</th>\n",
       "      <th>hours-per-week</th>\n",
       "      <th>workclass_?</th>\n",
       "      <th>workclass_Federal-gov</th>\n",
       "      <th>workclass_Local-gov</th>\n",
       "      <th>workclass_Never-worked</th>\n",
       "      <th>...</th>\n",
       "      <th>native-country_Portugal</th>\n",
       "      <th>native-country_Puerto-Rico</th>\n",
       "      <th>native-country_Scotland</th>\n",
       "      <th>native-country_South</th>\n",
       "      <th>native-country_Taiwan</th>\n",
       "      <th>native-country_Thailand</th>\n",
       "      <th>native-country_Trinadad&amp;Tobago</th>\n",
       "      <th>native-country_United-States</th>\n",
       "      <th>native-country_Vietnam</th>\n",
       "      <th>native-country_Yugoslavia</th>\n",
       "    </tr>\n",
       "  </thead>\n",
       "  <tbody>\n",
       "    <tr>\n",
       "      <th>0</th>\n",
       "      <td>39</td>\n",
       "      <td>77516</td>\n",
       "      <td>13</td>\n",
       "      <td>2174</td>\n",
       "      <td>0</td>\n",
       "      <td>40</td>\n",
       "      <td>0.0</td>\n",
       "      <td>0.0</td>\n",
       "      <td>0.0</td>\n",
       "      <td>0.0</td>\n",
       "      <td>...</td>\n",
       "      <td>0.0</td>\n",
       "      <td>0.0</td>\n",
       "      <td>0.0</td>\n",
       "      <td>0.0</td>\n",
       "      <td>0.0</td>\n",
       "      <td>0.0</td>\n",
       "      <td>0.0</td>\n",
       "      <td>1.0</td>\n",
       "      <td>0.0</td>\n",
       "      <td>0.0</td>\n",
       "    </tr>\n",
       "    <tr>\n",
       "      <th>1</th>\n",
       "      <td>50</td>\n",
       "      <td>83311</td>\n",
       "      <td>13</td>\n",
       "      <td>0</td>\n",
       "      <td>0</td>\n",
       "      <td>13</td>\n",
       "      <td>0.0</td>\n",
       "      <td>0.0</td>\n",
       "      <td>0.0</td>\n",
       "      <td>0.0</td>\n",
       "      <td>...</td>\n",
       "      <td>0.0</td>\n",
       "      <td>0.0</td>\n",
       "      <td>0.0</td>\n",
       "      <td>0.0</td>\n",
       "      <td>0.0</td>\n",
       "      <td>0.0</td>\n",
       "      <td>0.0</td>\n",
       "      <td>1.0</td>\n",
       "      <td>0.0</td>\n",
       "      <td>0.0</td>\n",
       "    </tr>\n",
       "    <tr>\n",
       "      <th>2</th>\n",
       "      <td>38</td>\n",
       "      <td>215646</td>\n",
       "      <td>9</td>\n",
       "      <td>0</td>\n",
       "      <td>0</td>\n",
       "      <td>40</td>\n",
       "      <td>0.0</td>\n",
       "      <td>0.0</td>\n",
       "      <td>0.0</td>\n",
       "      <td>0.0</td>\n",
       "      <td>...</td>\n",
       "      <td>0.0</td>\n",
       "      <td>0.0</td>\n",
       "      <td>0.0</td>\n",
       "      <td>0.0</td>\n",
       "      <td>0.0</td>\n",
       "      <td>0.0</td>\n",
       "      <td>0.0</td>\n",
       "      <td>1.0</td>\n",
       "      <td>0.0</td>\n",
       "      <td>0.0</td>\n",
       "    </tr>\n",
       "    <tr>\n",
       "      <th>3</th>\n",
       "      <td>53</td>\n",
       "      <td>234721</td>\n",
       "      <td>7</td>\n",
       "      <td>0</td>\n",
       "      <td>0</td>\n",
       "      <td>40</td>\n",
       "      <td>0.0</td>\n",
       "      <td>0.0</td>\n",
       "      <td>0.0</td>\n",
       "      <td>0.0</td>\n",
       "      <td>...</td>\n",
       "      <td>0.0</td>\n",
       "      <td>0.0</td>\n",
       "      <td>0.0</td>\n",
       "      <td>0.0</td>\n",
       "      <td>0.0</td>\n",
       "      <td>0.0</td>\n",
       "      <td>0.0</td>\n",
       "      <td>1.0</td>\n",
       "      <td>0.0</td>\n",
       "      <td>0.0</td>\n",
       "    </tr>\n",
       "    <tr>\n",
       "      <th>4</th>\n",
       "      <td>28</td>\n",
       "      <td>338409</td>\n",
       "      <td>13</td>\n",
       "      <td>0</td>\n",
       "      <td>0</td>\n",
       "      <td>40</td>\n",
       "      <td>0.0</td>\n",
       "      <td>0.0</td>\n",
       "      <td>0.0</td>\n",
       "      <td>0.0</td>\n",
       "      <td>...</td>\n",
       "      <td>0.0</td>\n",
       "      <td>0.0</td>\n",
       "      <td>0.0</td>\n",
       "      <td>0.0</td>\n",
       "      <td>0.0</td>\n",
       "      <td>0.0</td>\n",
       "      <td>0.0</td>\n",
       "      <td>0.0</td>\n",
       "      <td>0.0</td>\n",
       "      <td>0.0</td>\n",
       "    </tr>\n",
       "  </tbody>\n",
       "</table>\n",
       "<p>5 rows × 108 columns</p>\n",
       "</div>"
      ],
      "text/plain": [
       "   age  fnlwgt  education-num  capital-gain  capital-loss  hours-per-week  \\\n",
       "0   39   77516             13          2174             0              40   \n",
       "1   50   83311             13             0             0              13   \n",
       "2   38  215646              9             0             0              40   \n",
       "3   53  234721              7             0             0              40   \n",
       "4   28  338409             13             0             0              40   \n",
       "\n",
       "   workclass_?  workclass_Federal-gov  workclass_Local-gov  \\\n",
       "0          0.0                    0.0                  0.0   \n",
       "1          0.0                    0.0                  0.0   \n",
       "2          0.0                    0.0                  0.0   \n",
       "3          0.0                    0.0                  0.0   \n",
       "4          0.0                    0.0                  0.0   \n",
       "\n",
       "   workclass_Never-worked            ...              native-country_Portugal  \\\n",
       "0                     0.0            ...                                  0.0   \n",
       "1                     0.0            ...                                  0.0   \n",
       "2                     0.0            ...                                  0.0   \n",
       "3                     0.0            ...                                  0.0   \n",
       "4                     0.0            ...                                  0.0   \n",
       "\n",
       "   native-country_Puerto-Rico  native-country_Scotland  native-country_South  \\\n",
       "0                         0.0                      0.0                   0.0   \n",
       "1                         0.0                      0.0                   0.0   \n",
       "2                         0.0                      0.0                   0.0   \n",
       "3                         0.0                      0.0                   0.0   \n",
       "4                         0.0                      0.0                   0.0   \n",
       "\n",
       "   native-country_Taiwan  native-country_Thailand  \\\n",
       "0                    0.0                      0.0   \n",
       "1                    0.0                      0.0   \n",
       "2                    0.0                      0.0   \n",
       "3                    0.0                      0.0   \n",
       "4                    0.0                      0.0   \n",
       "\n",
       "   native-country_Trinadad&Tobago  native-country_United-States  \\\n",
       "0                             0.0                           1.0   \n",
       "1                             0.0                           1.0   \n",
       "2                             0.0                           1.0   \n",
       "3                             0.0                           1.0   \n",
       "4                             0.0                           0.0   \n",
       "\n",
       "   native-country_Vietnam  native-country_Yugoslavia  \n",
       "0                     0.0                        0.0  \n",
       "1                     0.0                        0.0  \n",
       "2                     0.0                        0.0  \n",
       "3                     0.0                        0.0  \n",
       "4                     0.0                        0.0  \n",
       "\n",
       "[5 rows x 108 columns]"
      ]
     },
     "execution_count": 6,
     "metadata": {},
     "output_type": "execute_result"
    }
   ],
   "source": [
    "train_X.head()"
   ]
  },
  {
   "cell_type": "code",
   "execution_count": 7,
   "metadata": {
    "collapsed": false
   },
   "outputs": [
    {
     "name": "stdout",
     "output_type": "stream",
     "text": [
      "<class 'pandas.core.frame.DataFrame'>\n",
      "Int64Index: 32561 entries, 0 to 32560\n",
      "Columns: 108 entries, age to native-country_Yugoslavia\n",
      "dtypes: float64(102), int64(6)\n",
      "memory usage: 27.1 MB\n"
     ]
    }
   ],
   "source": [
    "train_X.info()"
   ]
  },
  {
   "cell_type": "code",
   "execution_count": 8,
   "metadata": {
    "collapsed": false
   },
   "outputs": [
    {
     "name": "stdout",
     "output_type": "stream",
     "text": [
      "32561 32561 16281 16281\n"
     ]
    }
   ],
   "source": [
    "print(len(train_X), len(train_y), len(test_X), len(test_y))"
   ]
  },
  {
   "cell_type": "markdown",
   "metadata": {},
   "source": [
    "# 评估模型"
   ]
  },
  {
   "cell_type": "code",
   "execution_count": 9,
   "metadata": {
    "collapsed": true
   },
   "outputs": [],
   "source": [
    "from sklearn import tree\n",
    "from sklearn import linear_model\n",
    "from sklearn.ensemble import RandomForestClassifier\n",
    "from sklearn.ensemble import AdaBoostClassifier\n",
    "from sklearn.ensemble import GradientBoostingClassifier\n",
    "from sklearn.ensemble import AdaBoostClassifier\n",
    "from sklearn.neural_network import MLPClassifier\n",
    "from sklearn.naive_bayes import GaussianNB\n",
    "from sklearn.neighbors.nearest_centroid import NearestCentroid"
   ]
  },
  {
   "cell_type": "code",
   "execution_count": 10,
   "metadata": {
    "collapsed": true
   },
   "outputs": [],
   "source": [
    "def test_model(model):\n",
    "    print(model)\n",
    "    train_y_ = train_y.as_matrix().ravel()\n",
    "    test_y_ = test_y.as_matrix().ravel()\n",
    "    model.fit(train_X, train_y_)\n",
    "    pred = model.predict(test_X)\n",
    "    print('accuracy', accuracy_score(pred, test_y_))\n",
    "\n",
    "    for class_label in range(len(np.unique(train_y_))):\n",
    "        print('class', class_label)\n",
    "        print('precision', precision_score(pred, test_y_, pos_label=class_label))\n",
    "        print('recall', recall_score(pred, test_y_, pos_label=class_label))\n",
    "        print('f1', f1_score(pred, test_y_, pos_label=class_label))\n",
    "    return model"
   ]
  },
  {
   "cell_type": "code",
   "execution_count": 11,
   "metadata": {
    "collapsed": false
   },
   "outputs": [
    {
     "name": "stdout",
     "output_type": "stream",
     "text": [
      "train data has class 0 ratio: 0.7591904425539756\n",
      "test data has class 0 ratio: 0.7637737239727289\n"
     ]
    }
   ],
   "source": [
    "print('train data has class 0 ratio: {}'.format(len(train_y[train_y['income'] == 0]) / len(train_y)))\n",
    "print('test data has class 0 ratio: {}'.format(len(test_y[test_y['income'] == 0]) / len(test_y)))"
   ]
  },
  {
   "cell_type": "code",
   "execution_count": 12,
   "metadata": {
    "collapsed": false
   },
   "outputs": [
    {
     "name": "stdout",
     "output_type": "stream",
     "text": [
      "DecisionTreeClassifier(class_weight=None, criterion='gini', max_depth=None,\n",
      "            max_features=None, max_leaf_nodes=None,\n",
      "            min_impurity_split=1e-07, min_samples_leaf=1,\n",
      "            min_samples_split=2, min_weight_fraction_leaf=0.0,\n",
      "            presort=False, random_state=None, splitter='best')\n",
      "accuracy 0.811252380075\n",
      "class 0\n",
      "precision 0.873180538802\n",
      "recall 0.878905617614\n",
      "f1 0.876033724636\n",
      "class 1\n",
      "precision 0.611024440978\n",
      "recall 0.598421186656\n",
      "f1 0.604657146533\n",
      "NearestCentroid(metric='euclidean', shrink_threshold=None)\n",
      "accuracy 0.483999754315\n",
      "class 0\n",
      "precision 0.458383594692\n",
      "recall 0.773825685582\n",
      "f1 0.575728498561\n",
      "class 1\n",
      "precision 0.566822672907\n",
      "recall 0.244531688166\n",
      "f1 0.341666013635\n",
      "NativeBayes()\n",
      "accuracy 0.783489957619\n",
      "class 0\n",
      "precision 0.774266184158\n",
      "recall 0.930601198531\n",
      "f1 0.845265791668\n",
      "class 1\n",
      "precision 0.813312532501\n",
      "recall 0.527042965459\n",
      "f1 0.639607402106\n",
      "GaussianNB(priors=None)\n",
      "accuracy 0.795774215343\n",
      "class 0\n",
      "precision 0.947567350221\n",
      "recall 0.815094078583\n",
      "f1 0.876352683054\n",
      "class 1\n",
      "precision 0.304992199688\n",
      "recall 0.642739726027\n",
      "f1 0.413683653677\n",
      "AdaBoostClassifier(algorithm='SAMME.R', base_estimator=None,\n",
      "          learning_rate=1.0, n_estimators=100, random_state=None)\n",
      "accuracy 0.863214790246\n",
      "class 0\n",
      "precision 0.938640932851\n",
      "recall 0.888550548112\n",
      "f1 0.912909154902\n",
      "class 1\n",
      "precision 0.619344773791\n",
      "recall 0.757392686804\n",
      "f1 0.681447575454\n",
      "MLPClassifier(activation='relu', alpha=0.0001, batch_size='auto', beta_1=0.9,\n",
      "       beta_2=0.999, early_stopping=False, epsilon=1e-08,\n",
      "       hidden_layer_sizes=(20, 10, 10), learning_rate='constant',\n",
      "       learning_rate_init=0.001, max_iter=200, momentum=0.9,\n",
      "       nesterovs_momentum=True, power_t=0.5, random_state=None,\n",
      "       shuffle=True, solver='adam', tol=0.0001, validation_fraction=0.1,\n",
      "       verbose=False, warm_start=False)\n",
      "accuracy 0.63939561452\n",
      "class 0\n",
      "precision 0.550462404503\n",
      "recall 0.960566937974\n",
      "f1 0.699861970247\n",
      "class 1\n",
      "precision 0.926937077483\n",
      "recall 0.389404696887\n",
      "f1 0.548419352358\n"
     ]
    },
    {
     "data": {
      "text/plain": [
       "MLPClassifier(activation='relu', alpha=0.0001, batch_size='auto', beta_1=0.9,\n",
       "       beta_2=0.999, early_stopping=False, epsilon=1e-08,\n",
       "       hidden_layer_sizes=(20, 10, 10), learning_rate='constant',\n",
       "       learning_rate_init=0.001, max_iter=200, momentum=0.9,\n",
       "       nesterovs_momentum=True, power_t=0.5, random_state=None,\n",
       "       shuffle=True, solver='adam', tol=0.0001, validation_fraction=0.1,\n",
       "       verbose=False, warm_start=False)"
      ]
     },
     "execution_count": 12,
     "metadata": {},
     "output_type": "execute_result"
    }
   ],
   "source": [
    "test_model(tree.DecisionTreeClassifier())\n",
    "test_model(NearestCentroid())\n",
    "test_model(yqflearn.NativeBayes())\n",
    "test_model(GaussianNB())\n",
    "test_model(AdaBoostClassifier(n_estimators=100))\n",
    "test_model(MLPClassifier(hidden_layer_sizes=(20, 10, 10)))"
   ]
  },
  {
   "cell_type": "code",
   "execution_count": 23,
   "metadata": {
    "collapsed": false
   },
   "outputs": [
    {
     "name": "stdout",
     "output_type": "stream",
     "text": [
      "KNN(dis_func=<sklearn.neighbors.dist_metrics.EuclideanDistance object at 0x7f54ff4c3cf8>)\n",
      "accuracy 0.79147472514\n",
      "class 0\n",
      "precision 0.864656212304\n",
      "recall 0.862644415918\n",
      "f1 0.863649142536\n",
      "class 1\n",
      "precision 0.554862194488\n",
      "recall 0.559077809798\n",
      "f1 0.556962025316\n",
      "KNN(dis_func=<sklearn.neighbors.dist_metrics.ManhattanDistance object at 0x7f54ff4c3cf8>)\n",
      "accuracy 0.790676248388\n",
      "class 0\n",
      "precision 0.865460394049\n",
      "recall 0.861166680003\n",
      "f1 0.863308198299\n",
      "class 1\n",
      "precision 0.548881955278\n",
      "recall 0.557875264271\n",
      "f1 0.553342070773\n",
      "KNN(dis_func=<sklearn.neighbors.dist_metrics.HammingDistance object at 0x7f54ff4c3cf8>)\n",
      "accuracy 0.79233462318\n",
      "class 0\n",
      "precision 0.872135102533\n",
      "recall 0.858262108262\n",
      "f1 0.865142993897\n",
      "class 1\n",
      "precision 0.534321372855\n",
      "recall 0.56378600823\n",
      "f1 0.548658390068\n",
      "KNN(dis_func=<sklearn.neighbors.dist_metrics.JaccardDistance object at 0x7f54ff4c3cf8>)\n",
      "accuracy 0.786192494319\n",
      "class 0\n",
      "precision 0.887092882992\n",
      "recall 0.841547146781\n",
      "f1 0.863720001566\n",
      "class 1\n",
      "precision 0.459958398336\n",
      "recall 0.557516545856\n",
      "f1 0.504060407465\n",
      "KNN(dis_func=<sklearn.neighbors.dist_metrics.EuclideanDistance object at 0x7f54ff4c3cf8>)\n",
      "accuracy 0.729377802346\n",
      "class 0\n",
      "precision 0.813831926015\n",
      "recall 0.828760953239\n",
      "f1 0.821228596933\n",
      "class 1\n",
      "precision 0.45631825273\n",
      "recall 0.431203931204\n",
      "f1 0.443405760485\n"
     ]
    },
    {
     "data": {
      "text/plain": [
       "KNN(dis_func=<sklearn.neighbors.dist_metrics.EuclideanDistance object at 0x7f54ff4c3cf8>)"
      ]
     },
     "execution_count": 23,
     "metadata": {},
     "output_type": "execute_result"
    }
   ],
   "source": [
    "test_model(yqflearn.KNN(dis_func='euclidean'))\n",
    "test_model(yqflearn.KNN(dis_func='manhattan'))\n",
    "test_model(yqflearn.KNN(dis_func='hamming'))\n",
    "test_model(yqflearn.KNN(dis_func='jaccard'))\n",
    "\n",
    "test_model(yqflearn.KNN(scale=False))"
   ]
  },
  {
   "cell_type": "code",
   "execution_count": 21,
   "metadata": {
    "collapsed": false
   },
   "outputs": [
    {
     "name": "stdout",
     "output_type": "stream",
     "text": [
      "KNN(dis_func=<sklearn.neighbors.dist_metrics.EuclideanDistance object at 0x7f54ff4c3898>)\n",
      "accuracy 0.816780296051\n",
      "class 0\n",
      "precision 0.89545637314\n",
      "recall 0.868700265252\n",
      "f1 0.881875420742\n",
      "class 1\n",
      "precision 0.5624024961\n",
      "recall 0.624602945423\n",
      "f1 0.591873033247\n",
      "KNN(dis_func=<sklearn.neighbors.dist_metrics.HammingDistance object at 0x7f54ff4c3898>)\n",
      "accuracy 0.812050856827\n",
      "class 0\n",
      "precision 0.898994772819\n",
      "recall 0.861049064161\n",
      "f1 0.879612872767\n",
      "class 1\n",
      "precision 0.53094123765\n",
      "recall 0.619163129169\n",
      "f1 0.571668533035\n",
      "KNN(dis_func=<sklearn.neighbors.dist_metrics.HammingDistance object at 0x7f54ff4c3898>)\n",
      "accuracy 0.822185369449\n",
      "class 0\n",
      "precision 0.938882187374\n",
      "recall 0.845401882694\n",
      "f1 0.88969327491\n",
      "class 1\n",
      "precision 0.444877795112\n",
      "recall 0.692432213679\n",
      "f1 0.541712838373\n",
      "KNN(dis_func=<sklearn.neighbors.dist_metrics.HammingDistance object at 0x7f54ff4c3898>)\n",
      "accuracy 0.827836128002\n",
      "class 0\n",
      "precision 0.920144752714\n",
      "recall 0.863416842741\n",
      "f1 0.890878654572\n",
      "class 1\n",
      "precision 0.529381175247\n",
      "recall 0.672169032684\n",
      "f1 0.592290909091\n"
     ]
    },
    {
     "data": {
      "text/plain": [
       "KNN(dis_func=<sklearn.neighbors.dist_metrics.HammingDistance object at 0x7f54ff4c3898>)"
      ]
     },
     "execution_count": 21,
     "metadata": {},
     "output_type": "execute_result"
    }
   ],
   "source": [
    "test_model(yqflearn.KNN(K=3))\n",
    "test_model(yqflearn.KNN(K=3, dis_func='hamming'))\n",
    "test_model(yqflearn.KNN(K=6, dis_func='hamming'))\n",
    "test_model(yqflearn.KNN(K=9, dis_func='hamming'))"
   ]
  },
  {
   "cell_type": "code",
   "execution_count": 22,
   "metadata": {
    "collapsed": false
   },
   "outputs": [
    {
     "name": "stdout",
     "output_type": "stream",
     "text": [
      "KNN(dis_func=<sklearn.neighbors.dist_metrics.HammingDistance object at 0x7f54ff4c37b8>)\n",
      "accuracy 0.827897549291\n",
      "class 0\n",
      "precision 0.935182951347\n",
      "recall 0.853504587156\n",
      "f1 0.892478894858\n",
      "class 1\n",
      "precision 0.48101924077\n",
      "recall 0.696536144578\n",
      "f1 0.569055675177\n"
     ]
    },
    {
     "data": {
      "text/plain": [
       "KNN(dis_func=<sklearn.neighbors.dist_metrics.HammingDistance object at 0x7f54ff4c37b8>)"
      ]
     },
     "execution_count": 22,
     "metadata": {},
     "output_type": "execute_result"
    }
   ],
   "source": [
    "test_model(yqflearn.KNN(K=12, dis_func='hamming'))"
   ]
  },
  {
   "cell_type": "code",
   "execution_count": 14,
   "metadata": {
    "collapsed": false
   },
   "outputs": [
    {
     "name": "stderr",
     "output_type": "stream",
     "text": [
      "/usr/local/lib/python3.4/dist-packages/sklearn/cross_validation.py:44: DeprecationWarning: This module was deprecated in version 0.18 in favor of the model_selection module into which all the refactored classes and functions are moved. Also note that the interface of the new CV iterators are different from that of this module. This module will be removed in 0.20.\n",
      "  \"This module will be removed in 0.20.\", DeprecationWarning)\n"
     ]
    },
    {
     "name": "stdout",
     "output_type": "stream",
     "text": [
      "# Num of Features:  108\n",
      "0.878078742092\n"
     ]
    }
   ],
   "source": [
    "import xgboost as xgb\n",
    "\n",
    "dtrain = xgb.DMatrix(train_X, train_y)\n",
    "dvalid = xgb.DMatrix(test_X, test_y)\n",
    "\n",
    "print(\"# Num of Features: \", train_X.shape[1])\n",
    "\n",
    "params = {\n",
    "    \"objective\": \"binary:logistic\",\n",
    "    \"booster\": \"gbtree\",\n",
    "    \"eta\": 0.25,\n",
    "}\n",
    "\n",
    "gbm = xgb.train(params, dtrain, 40)\n",
    "\n",
    "ypred_bst = gbm.predict(xgb.DMatrix(test_X))\n",
    "print(accuracy_score((ypred_bst > 0.5).astype(int), test_y))"
   ]
  },
  {
   "cell_type": "code",
   "execution_count": 15,
   "metadata": {
    "collapsed": false
   },
   "outputs": [
    {
     "name": "stdout",
     "output_type": "stream",
     "text": [
      "class 0\n",
      "precision 0.947567350221\n",
      "recall 0.898368405002\n",
      "f1 0.922312238269\n",
      "class 1\n",
      "precision 0.653406136245\n",
      "recall 0.793996840442\n",
      "f1 0.716873484524\n"
     ]
    }
   ],
   "source": [
    "for class_label in range(len(np.unique(test_y))):\n",
    "    print('class', class_label)\n",
    "    print('precision', precision_score((ypred_bst > 0.5).astype(int), test_y, pos_label=class_label))\n",
    "    print('recall', recall_score((ypred_bst > 0.5).astype(int), test_y, pos_label=class_label))\n",
    "    print('f1', f1_score((ypred_bst > 0.5).astype(int), test_y, pos_label=class_label))"
   ]
  },
  {
   "cell_type": "code",
   "execution_count": 16,
   "metadata": {
    "collapsed": false
   },
   "outputs": [
    {
     "name": "stdout",
     "output_type": "stream",
     "text": [
      "0.928100025489\n"
     ]
    },
    {
     "data": {
      "image/png": "[encoded data removed]",
      "text/plain": [
       "<matplotlib.figure.Figure at 0x7f550eb78320>"
      ]
     },
     "metadata": {},
     "output_type": "display_data"
    }
   ],
   "source": [
    "import matplotlib.pyplot as plt\n",
    "from sklearn.metrics import roc_curve, auc\n",
    "\n",
    "fpr, tpr, thresholds = metrics.roc_curve(test_y.as_matrix(), ypred_bst)\n",
    "print(metrics.auc(fpr, tpr))\n",
    "\n",
    "plt.figure()\n",
    "lw = 2\n",
    "plt.plot(fpr, tpr, color='darkorange',\n",
    "         lw=lw, label='ROC curve (area = %0.2f)' % metrics.auc(fpr, tpr))\n",
    "plt.plot([0, 1], [0, 1], color='navy', lw=lw, linestyle='--')\n",
    "plt.xlim([0.0, 1.0])\n",
    "plt.ylim([0.0, 1.05])\n",
    "plt.xlabel('False Positive Rate')\n",
    "plt.ylabel('True Positive Rate')\n",
    "plt.title('Receiver operating characteristic')\n",
    "plt.legend(loc=\"lower right\")\n",
    "plt.show()"
   ]
  },
  {
   "cell_type": "code",
   "execution_count": 17,
   "metadata": {
    "collapsed": false
   },
   "outputs": [
    {
     "data": {
      "text/plain": [
       "<matplotlib.axes._subplots.AxesSubplot at 0x7f550ea44eb8>"
      ]
     },
     "execution_count": 17,
     "metadata": {},
     "output_type": "execute_result"
    },
    {
     "data": {
      "image/png": "[encoded data removed]",
      "text/plain": [
       "<matplotlib.figure.Figure at 0x7f550d3d3ba8>"
      ]
     },
     "metadata": {},
     "output_type": "display_data"
    }
   ],
   "source": [
    "from sklearn.metrics import confusion_matrix\n",
    "\n",
    "# Compute confusion matrix\n",
    "cnf_matrix = confusion_matrix(test_y['income'], (ypred_bst > 0.5).astype(int))\n",
    "np.set_printoptions(precision=2)\n",
    "\n",
    "df_cm = pd.DataFrame(cnf_matrix, index = [str(x) for x in range(0, 2)],\n",
    "                  columns = [str(x) for x in range(0, 2)])\n",
    "sns.heatmap(df_cm, annot=True)"
   ]
  },
  {
   "cell_type": "code",
   "execution_count": 18,
   "metadata": {
    "collapsed": false
   },
   "outputs": [
    {
     "data": {
      "text/plain": [
       "array([ 0.  ,  0.17,  0.41, ...,  0.77,  0.04,  0.76], dtype=float32)"
      ]
     },
     "execution_count": 18,
     "metadata": {},
     "output_type": "execute_result"
    }
   ],
   "source": [
    "ypred_bst"
   ]
  },
  {
   "cell_type": "markdown",
   "metadata": {},
   "source": [
    "## 测试Keras神经网络库"
   ]
  },
  {
   "cell_type": "code",
   "execution_count": 19,
   "metadata": {
    "collapsed": false
   },
   "outputs": [
    {
     "name": "stderr",
     "output_type": "stream",
     "text": [
      "Using TensorFlow backend.\n"
     ]
    },
    {
     "name": "stdout",
     "output_type": "stream",
     "text": [
      "Epoch 1/10\n",
      "32561/32561 [==============================] - 1s - loss: 4.1868 - acc: 0.7384     \n",
      "Epoch 2/10\n",
      "32561/32561 [==============================] - 1s - loss: 3.9204 - acc: 0.7563     \n",
      "Epoch 3/10\n",
      "32561/32561 [==============================] - 1s - loss: 3.8966 - acc: 0.7578     \n",
      "Epoch 4/10\n",
      "32561/32561 [==============================] - 1s - loss: 3.8852 - acc: 0.7584     \n",
      "Epoch 5/10\n",
      "32561/32561 [==============================] - 1s - loss: 3.8855 - acc: 0.7585     \n",
      "Epoch 6/10\n",
      "32561/32561 [==============================] - 1s - loss: 3.8870 - acc: 0.7585     \n",
      "Epoch 7/10\n",
      "32561/32561 [==============================] - 1s - loss: 3.8898 - acc: 0.7584     \n",
      "Epoch 8/10\n",
      "32561/32561 [==============================] - 1s - loss: 3.8790 - acc: 0.7590     \n",
      "Epoch 9/10\n",
      "32561/32561 [==============================] - 1s - loss: 3.8910 - acc: 0.7582     \n",
      "Epoch 10/10\n",
      "32561/32561 [==============================] - 1s - loss: 3.8836 - acc: 0.7587     \n"
     ]
    },
    {
     "data": {
      "text/plain": [
       "<keras.callbacks.History at 0x7f54ff638ba8>"
      ]
     },
     "execution_count": 19,
     "metadata": {},
     "output_type": "execute_result"
    }
   ],
   "source": [
    "from keras.models import Sequential\n",
    "from keras.layers import Dense, Dropout, Activation\n",
    "from keras.wrappers.scikit_learn import KerasClassifier\n",
    "from keras.utils import np_utils\n",
    "from keras.optimizers import SGD\n",
    "from keras.layers.advanced_activations import PReLU\n",
    "\n",
    "def baseline_model():\n",
    "    # create model\n",
    "    model = Sequential()\n",
    "    model.add(Dense(100, input_dim=train_X.shape[1], init='normal', activation='relu'))\n",
    "    model.add(PReLU())\n",
    "    model.add(Dropout(0.5))\n",
    "    model.add(Dense(100, input_dim=train_X.shape[1], init='normal', activation='relu'))\n",
    "    model.add(PReLU())\n",
    "    model.add(Dropout(0.5))\n",
    "    model.add(Dense(100, input_dim=train_X.shape[1], init='normal', activation='relu'))\n",
    "#     model.add(PReLU())\n",
    "    model.add(Dropout(0.5))\n",
    "    model.add(Dense(20, input_dim=train_X.shape[1], init='normal', activation='relu'))\n",
    "#     model.add(PReLU())\n",
    "    model.add(Dropout(0.5))\n",
    "    model.add(Dense(1, activation='sigmoid'))\n",
    "    # Compile model\n",
    "    model.compile(loss='binary_crossentropy', optimizer='rmsprop', metrics=['accuracy'])  #logloss\n",
    "    return model\n",
    "\n",
    "model = baseline_model()\n",
    "model.fit(train_X.as_matrix(), train_y.as_matrix(), nb_epoch=10, batch_size=1000)\n"
   ]
  },
  {
   "cell_type": "code",
   "execution_count": 20,
   "metadata": {
    "collapsed": false
   },
   "outputs": [
    {
     "name": "stdout",
     "output_type": "stream",
     "text": [
      "16000/16281 [============================>.] - ETA: 0s"
     ]
    },
    {
     "data": {
      "text/plain": [
       "[3.8075128808287189, 0.76377372953011802]"
      ]
     },
     "execution_count": 20,
     "metadata": {},
     "output_type": "execute_result"
    }
   ],
   "source": [
    "sc = model.evaluate(test_X.as_matrix(), test_y.as_matrix(), batch_size=2000)\n",
    "# model.predict_on_batch(test_X.as_matrix())\n",
    "sc"
   ]
  }
 ],
 "metadata": {
  "kernelspec": {
   "display_name": "Python 3",
   "language": "python",
   "name": "python3"
  },
  "language_info": {
   "codemirror_mode": {
    "name": "ipython",
    "version": 3
   },
   "file_extension": ".py",
   "mimetype": "text/x-python",
   "name": "python",
   "nbconvert_exporter": "python",
   "pygments_lexer": "ipython3",
   "version": "3.5.2"
  }
 },
 "nbformat": 4,
 "nbformat_minor": 1
}
